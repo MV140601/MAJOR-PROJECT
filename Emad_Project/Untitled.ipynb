{
 "cells": [
  {
   "cell_type": "code",
   "execution_count": 1,
   "id": "541976af",
   "metadata": {},
   "outputs": [
    {
     "name": "stdout",
     "output_type": "stream",
     "text": [
      " * Serving Flask app '__main__'\n",
      " * Debug mode: on\n"
     ]
    },
    {
     "name": "stderr",
     "output_type": "stream",
     "text": [
      "c:\\users\\khane\\appdata\\local\\programs\\python\\python38\\lib\\site-packages\\sklearn\\base.py:299: UserWarning: Trying to unpickle estimator MultinomialNB from version 1.0.2 when using version 1.2.1. This might lead to breaking code or invalid results. Use at your own risk. For more info please refer to:\n",
      "https://scikit-learn.org/stable/model_persistence.html#security-maintainability-limitations\n",
      "  warnings.warn(\n",
      "WARNING: This is a development server. Do not use it in a production deployment. Use a production WSGI server instead.\n",
      " * Running on http://127.0.0.1:5000\n",
      "Press CTRL+C to quit\n",
      " * Restarting with stat\n"
     ]
    },
    {
     "ename": "SystemExit",
     "evalue": "1",
     "output_type": "error",
     "traceback": [
      "An exception has occurred, use %tb to see the full traceback.\n",
      "\u001b[1;31mSystemExit\u001b[0m\u001b[1;31m:\u001b[0m 1\n"
     ]
    },
    {
     "name": "stderr",
     "output_type": "stream",
     "text": [
      "c:\\users\\khane\\appdata\\local\\programs\\python\\python38\\lib\\site-packages\\IPython\\core\\interactiveshell.py:3468: UserWarning: To exit: use 'exit', 'quit', or Ctrl-D.\n",
      "  warn(\"To exit: use 'exit', 'quit', or Ctrl-D.\", stacklevel=1)\n"
     ]
    }
   ],
   "source": [
    "from flask import Flask,render_template,request\n",
    "from utility import *\n",
    "\n",
    "\n",
    "app = Flask(__name__)\n",
    "\n",
    "@app.route(\"/\",methods=['GET'])\n",
    "\n",
    "def home():\n",
    "    return render_template(\"index.html\")\n",
    "\n",
    "@app.route(\"/about\",methods=['GET'])\n",
    "\n",
    "def about():\n",
    "    return render_template(\"about.html\")\n",
    "\n",
    "@app.route(\"/working\",methods=['GET'])\n",
    "\n",
    "def working():\n",
    "    return render_template(\"working.html\")\n",
    "\n",
    "\n",
    "@app.route(\"/test\",methods=['GET'])\n",
    "\n",
    "def testPage():\n",
    "    return render_template('test.html',list=l1,disease='')\n",
    "\n",
    "\n",
    "@app.route(\"/calculate\",methods=['GET','POST'])\n",
    "\n",
    "def calculate():\n",
    "    if request.method=='POST':\n",
    "\n",
    "        sym1 = request.form['symptom1']\n",
    "        sym2 = request.form['symptom2']\n",
    "        sym3 = request.form['symptom3']\n",
    "        sym4 = request.form['symptom4']\n",
    "        sym5 = request.form['symptom5']\n",
    "\n",
    "        l2=[]\n",
    "        for x in range(0,len(l1)):\n",
    "            l2.append(0)\n",
    "\n",
    "        psymptoms = [sym1,sym2,sym3,sym4,sym5]\n",
    "\n",
    "        for k in range(0,len(l1)):\n",
    "                for z in psymptoms:\n",
    "                    if(z==l1[k]):\n",
    "                        l2[k]=1\n",
    "\n",
    "        inputtest = [l2]\n",
    "        predict = gnb.predict(inputtest)\n",
    "        predicted=predict[0]\n",
    "\n",
    "        h='no'\n",
    "        for a in range(0,len(disease)):\n",
    "            if(disease[predicted] == disease[a]):\n",
    "                h='yes'\n",
    "                break\n",
    "\n",
    "        if (h=='yes'):\n",
    "            problem = disease[a]\n",
    "        else:\n",
    "            problem = \"No disease\"\n",
    "\n",
    "        return render_template(\"test.html\",list=l1,disease=problem)\n",
    "\n",
    "if __name__==\"__main__\":\n",
    "    app.run(debug=True)"
   ]
  },
  {
   "cell_type": "code",
   "execution_count": null,
   "id": "db1024f5",
   "metadata": {},
   "outputs": [],
   "source": []
  }
 ],
 "metadata": {
  "kernelspec": {
   "display_name": "Python 3 (ipykernel)",
   "language": "python",
   "name": "python3"
  },
  "language_info": {
   "codemirror_mode": {
    "name": "ipython",
    "version": 3
   },
   "file_extension": ".py",
   "mimetype": "text/x-python",
   "name": "python",
   "nbconvert_exporter": "python",
   "pygments_lexer": "ipython3",
   "version": "3.8.2"
  }
 },
 "nbformat": 4,
 "nbformat_minor": 5
}
